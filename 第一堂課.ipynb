{
  "nbformat": 4,
  "nbformat_minor": 0,
  "metadata": {
    "colab": {
      "provenance": [],
      "gpuType": "T4"
    },
    "kernelspec": {
      "name": "python3",
      "display_name": "Python 3"
    },
    "language_info": {
      "name": "python"
    },
    "accelerator": "GPU"
  },
  "cells": [
    {
      "cell_type": "code",
      "execution_count": 4,
      "metadata": {
        "colab": {
          "base_uri": "https://localhost:8080/"
        },
        "id": "Vrt8iPCaPxn_",
        "outputId": "630f2dd4-b5cc-4fd1-934f-d6574dd3161b"
      },
      "outputs": [
        {
          "output_type": "stream",
          "name": "stdout",
          "text": [
            "Hello world\n"
          ]
        }
      ],
      "source": [
        "print('Hello world')"
      ]
    },
    {
      "cell_type": "code",
      "source": [
        "a = 1\n",
        "b = c = a\n",
        "print(a)\n",
        "print(b)\n",
        "print(c)"
      ],
      "metadata": {
        "colab": {
          "base_uri": "https://localhost:8080/"
        },
        "id": "NWrSkZ5BSR4s",
        "outputId": "001088bc-0d25-453e-a22f-855ab84e1168"
      },
      "execution_count": 7,
      "outputs": [
        {
          "output_type": "stream",
          "name": "stdout",
          "text": [
            "1\n",
            "1\n",
            "1\n"
          ]
        }
      ]
    },
    {
      "cell_type": "code",
      "source": [
        "a = 1\n",
        "b = a\n",
        "a = 2\n",
        "print(a)\n",
        "print(b)"
      ],
      "metadata": {
        "colab": {
          "base_uri": "https://localhost:8080/"
        },
        "id": "06xHpbnbTNyo",
        "outputId": "728e357d-918e-4894-a987-2323c817c15a"
      },
      "execution_count": 8,
      "outputs": [
        {
          "output_type": "stream",
          "name": "stdout",
          "text": [
            "2\n",
            "1\n"
          ]
        }
      ]
    },
    {
      "cell_type": "code",
      "source": [
        "a = \"'Merida'is a bike compiny\"\n",
        "print(a)\n",
        "b = '\"yes\"no'\n",
        "print(b)"
      ],
      "metadata": {
        "colab": {
          "base_uri": "https://localhost:8080/"
        },
        "id": "wgAzLP7_TumV",
        "outputId": "671b6504-2c77-4e40-df72-b73c5f1e05d8"
      },
      "execution_count": 15,
      "outputs": [
        {
          "output_type": "stream",
          "name": "stdout",
          "text": [
            "'Merida'is a bike compiny\n",
            "\"yes\"no\n"
          ]
        }
      ]
    },
    {
      "cell_type": "code",
      "source": [
        "a = \"\"\"asdas ,d as[da\\sd1asd\n",
        "*ada%s\n",
        "dasdadasdad\"\"\"\n",
        "print(a)"
      ],
      "metadata": {
        "colab": {
          "base_uri": "https://localhost:8080/"
        },
        "id": "LoVjgdMzUHZX",
        "outputId": "58d3f33b-c4dd-4d04-b678-ab56294d2959"
      },
      "execution_count": 12,
      "outputs": [
        {
          "output_type": "stream",
          "name": "stdout",
          "text": [
            "asdas ,d as[da\\sd1asd\n",
            "*ada%s\n",
            "dasdadasdad\n"
          ]
        }
      ]
    },
    {
      "cell_type": "code",
      "source": [
        "a = '0123456789abcdef'\n",
        "print (a[0])\n",
        "print(a[3])\n",
        "print(a[-1])\n",
        "print(a[:])\n",
        "print(a[5:])\n",
        "print(a[:5])\n",
        "print(a[5:10])\n",
        "print(a[5:-3])\n",
        "print(a[5:10:2])\n",
        "print(a[5:-1])\n",
        "\n"
      ],
      "metadata": {
        "colab": {
          "base_uri": "https://localhost:8080/"
        },
        "id": "1Uoh-1_FUvtv",
        "outputId": "6c86e31b-25c8-4a23-88b6-6c6cca19cb5a"
      },
      "execution_count": 21,
      "outputs": [
        {
          "output_type": "stream",
          "name": "stdout",
          "text": [
            "0\n",
            "3\n",
            "f\n",
            "0123456789abcdef\n",
            "56789abcdef\n",
            "01234\n",
            "56789\n",
            "56789abc\n",
            "579\n",
            "56789abcde\n"
          ]
        }
      ]
    },
    {
      "cell_type": "code",
      "source": [
        "a = 'hello world'\n",
        "print(len(a))\n",
        "a = a+\", I am Oscar, how are you?\"\n",
        "b = a.split(',')\n",
        "c = a.split(' ')\n",
        "print(b)\n",
        "print(c)"
      ],
      "metadata": {
        "colab": {
          "base_uri": "https://localhost:8080/"
        },
        "id": "cj68JSkOXGr9",
        "outputId": "8c7ce52f-fcfb-40b6-d023-8b1c8e2abd1d"
      },
      "execution_count": 27,
      "outputs": [
        {
          "output_type": "stream",
          "name": "stdout",
          "text": [
            "11\n",
            "['hello world', ' I am Oscar', ' how are you?']\n",
            "['hello', 'world,', 'I', 'am', 'Oscar,', 'how', 'are', 'you?']\n"
          ]
        }
      ]
    },
    {
      "cell_type": "code",
      "source": [
        "a = ['apple', 'banana', 'orange']\n",
        "b = [1,2,3,4,5,6,7,8]\n",
        "c = ['apple', 1,2,3,['dog', 'cat']]\n",
        "d = list('apple')\n",
        "print(a)\n",
        "print(b)\n",
        "print(c)\n",
        "print(d)\n",
        "print(type(a))"
      ],
      "metadata": {
        "colab": {
          "base_uri": "https://localhost:8080/"
        },
        "id": "DoXLnG-3Xbsm",
        "outputId": "d2c46ff2-e553-4c5e-f850-8c90c1a7707a"
      },
      "execution_count": 38,
      "outputs": [
        {
          "output_type": "stream",
          "name": "stdout",
          "text": [
            "['apple', 'banana', 'orange']\n",
            "[1, 2, 3, 4, 5, 6, 7, 8]\n",
            "['apple', 1, 2, 3, ['dog', 'cat']]\n",
            "['a', 'p', 'p', 'l', 'e']\n",
            "<class 'list'>\n"
          ]
        }
      ]
    },
    {
      "cell_type": "code",
      "source": [
        "t1 = ('apple', 'banana', 'orange', 'grape')\n",
        "a, b, c, d = t1\n",
        "print(a)\n",
        "print(b)\n",
        "print(c)\n",
        "print(d)\n",
        "t2 = ('grava', 'melon')\n",
        "t = t1+t2\n",
        "print(t)\n",
        "print(type(t))\n",
        "print(type(t1))"
      ],
      "metadata": {
        "colab": {
          "base_uri": "https://localhost:8080/"
        },
        "id": "ABmxzgHVdX1b",
        "outputId": "5e27f2b1-188f-4d09-a6fa-be352e7d0298"
      },
      "execution_count": 37,
      "outputs": [
        {
          "output_type": "stream",
          "name": "stdout",
          "text": [
            "apple\n",
            "banana\n",
            "orange\n",
            "grape\n",
            "('apple', 'banana', 'orange', 'grape', 'grava', 'melon')\n",
            "<class 'tuple'>\n",
            "<class 'tuple'>\n"
          ]
        }
      ]
    },
    {
      "cell_type": "code",
      "source": [
        "a = dict(name = 'Oscar', age = 21, eat = ['apple', 'banana'])\n",
        "print(a)\n",
        "print(type(a))"
      ],
      "metadata": {
        "colab": {
          "base_uri": "https://localhost:8080/"
        },
        "id": "CZ8IYmn7fMLM",
        "outputId": "e62ddab9-6509-4966-9f3b-67c335eb62bc"
      },
      "execution_count": 36,
      "outputs": [
        {
          "output_type": "stream",
          "name": "stdout",
          "text": [
            "{'name': 'Oscar', 'age': 21, 'eat': ['apple', 'banana']}\n",
            "<class 'dict'>\n"
          ]
        }
      ]
    },
    {
      "cell_type": "code",
      "source": [
        "a = set()\n",
        "b = set([1, 2, 3, 4, 5])\n",
        "print(a)\n",
        "print(b)"
      ],
      "metadata": {
        "colab": {
          "base_uri": "https://localhost:8080/"
        },
        "id": "f8fsdeM8heFT",
        "outputId": "057ced43-056e-4868-80c1-0ed76adc97ce"
      },
      "execution_count": 39,
      "outputs": [
        {
          "output_type": "stream",
          "name": "stdout",
          "text": [
            "set()\n",
            "{1, 2, 3, 4, 5}\n"
          ]
        }
      ]
    }
  ]
}